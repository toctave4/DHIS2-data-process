{
  "nbformat": 4,
  "nbformat_minor": 0,
  "metadata": {
    "colab": {
      "name": "burkin_search_app.ipynb",
      "provenance": [],
      "authorship_tag": "ABX9TyOH2hLlPpR9SXN0Nlrb/Urx",
      "include_colab_link": true
    },
    "kernelspec": {
      "name": "python3",
      "display_name": "Python 3"
    },
    "language_info": {
      "name": "python"
    }
  },
  "cells": [
    {
      "cell_type": "markdown",
      "metadata": {
        "id": "view-in-github",
        "colab_type": "text"
      },
      "source": [
        "<a href=\"https://colab.research.google.com/github/toctave4/DHIS2-data-process/blob/main/burkin_search_app.ipynb\" target=\"_parent\"><img src=\"https://colab.research.google.com/assets/colab-badge.svg\" alt=\"Open In Colab\"/></a>"
      ]
    },
    {
      "cell_type": "code",
      "metadata": {
        "id": "mqLT_dp2Jhx0"
      },
      "source": [
        "import numpy as np\n",
        "import pandas as pd\n",
        "import glob"
      ],
      "execution_count": null,
      "outputs": []
    },
    {
      "cell_type": "code",
      "metadata": {
        "id": "G8SeYjGiMllP"
      },
      "source": [
        "# chargement du fichier BFA dans python\n",
        "bfa_metadata = pd.ExcelFile('/BFA Register Metadata NS 13-10-2021.xlsx')"
      ],
      "execution_count": null,
      "outputs": []
    },
    {
      "cell_type": "code",
      "metadata": {
        "colab": {
          "base_uri": "https://localhost:8080/"
        },
        "id": "JY63iEhed01t",
        "outputId": "b7e9c0e7-fba1-460f-e79e-cc2738acf136"
      },
      "source": [
        "# charger le fichier obtenu dans un dictionnaire python\n",
        "dict_bfa_data = {}\n",
        "for sht in bfa_metadata.sheet_names:\n",
        "  dict_bfa_data[sht] = bfa_metadata.parse(sht)\n",
        "len(dict_bfa_data)"
      ],
      "execution_count": null,
      "outputs": [
        {
          "output_type": "execute_result",
          "data": {
            "text/plain": [
              "71"
            ]
          },
          "metadata": {},
          "execution_count": 3
        }
      ]
    },
    {
      "cell_type": "code",
      "metadata": {
        "id": "Kwi_0IVtcK99"
      },
      "source": [
        "# chargement du fichier DHIS2 dans python\n",
        "dhis2_metadata = pd.ExcelFile('/Burkina_DHIS2_Metadata.xlsx')"
      ],
      "execution_count": null,
      "outputs": []
    },
    {
      "cell_type": "code",
      "metadata": {
        "colab": {
          "base_uri": "https://localhost:8080/"
        },
        "id": "1ExBxGFvfMAe",
        "outputId": "5916c320-e294-4abf-fd83-58eb0fdafb08"
      },
      "source": [
        "# charger le fichier obtenu dans un dictionnaire python\n",
        "dict_DHIS2_data = {}\n",
        "for sht in dhis2_metadata.sheet_names:\n",
        "  dict_DHIS2_data[sht] = dhis2_metadata.parse(sht)\n",
        "len(dict_DHIS2_data)"
      ],
      "execution_count": null,
      "outputs": [
        {
          "output_type": "execute_result",
          "data": {
            "text/plain": [
              "3"
            ]
          },
          "metadata": {},
          "execution_count": 5
        }
      ]
    },
    {
      "cell_type": "code",
      "metadata": {
        "id": "v6gs9OLff_zm"
      },
      "source": [
        "# Creation d'un hash table contenant toutes les metadonnees sur DHIS2\n",
        "hash_table_dhis2 = {}\n",
        "for key in dict_DHIS2_data.keys():\n",
        "  for i in range(len(dict_DHIS2_data[key])):\n",
        "    hash_table_dhis2[dict_DHIS2_data[key].loc[i][0]] = key"
      ],
      "execution_count": null,
      "outputs": []
    },
    {
      "cell_type": "code",
      "metadata": {
        "id": "dh2xN0l0j-H2"
      },
      "source": [
        "# On parcour le dictionnaire BFA. Pour chaque variable du dit dictionnaire on verifie\n",
        "# s'elle est dans le hash table dhis2\n",
        "dict_founded = {}\n",
        "for sheet_bfa in dict_bfa_data:\n",
        "  for i in range(len(dict_bfa_data[sheet_bfa])):\n",
        "    if dict_bfa_data[sheet_bfa].loc[i][0] in hash_table_dhis2.keys():\n",
        "      if sheet_bfa in dict_founded.keys():\n",
        "        dict_founded[sheet_bfa].append(dict_bfa_data[sheet_bfa].loc[i][0])\n",
        "      else:\n",
        "        dict_founded[sheet_bfa] = [dict_bfa_data[sheet_bfa].loc[i][0]]"
      ],
      "execution_count": null,
      "outputs": []
    },
    {
      "cell_type": "code",
      "metadata": {
        "id": "U8BINkQzoKlt"
      },
      "source": [
        "# Ecrire les resultats dans un fichier excel metadata_founded.xlsx\n",
        "with pd.ExcelWriter('/metadata_founded.xlsx') as writer:\n",
        "  for key in dict_founded.keys():\n",
        "    dict_founded_df = pd.DataFrame.from_dict(dict_founded[key])\n",
        "    dict_founded_df.to_excel(writer, sheet_name=key)"
      ],
      "execution_count": null,
      "outputs": []
    }
  ]
}