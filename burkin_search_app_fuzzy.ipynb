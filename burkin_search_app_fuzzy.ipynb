{
  "nbformat": 4,
  "nbformat_minor": 0,
  "metadata": {
    "colab": {
      "name": "burkin_search_app_fuzzy.ipynb",
      "provenance": [],
      "collapsed_sections": [],
      "authorship_tag": "ABX9TyMw39OipT5yu+f80duHGFfs",
      "include_colab_link": true
    },
    "kernelspec": {
      "name": "python3",
      "display_name": "Python 3"
    },
    "language_info": {
      "name": "python"
    }
  },
  "cells": [
    {
      "cell_type": "markdown",
      "metadata": {
        "id": "view-in-github",
        "colab_type": "text"
      },
      "source": [
        "<a href=\"https://colab.research.google.com/github/toctave4/DHIS2-data-process/blob/main/burkin_search_app_fuzzy.ipynb\" target=\"_parent\"><img src=\"https://colab.research.google.com/assets/colab-badge.svg\" alt=\"Open In Colab\"/></a>"
      ]
    },
    {
      "cell_type": "code",
      "metadata": {
        "colab": {
          "base_uri": "https://localhost:8080/"
        },
        "id": "ZEZMeMjR05WO",
        "outputId": "ec5839aa-4e11-4e68-8a8d-eca74800460b"
      },
      "source": [
        "pip install rapidfuzz"
      ],
      "execution_count": 44,
      "outputs": [
        {
          "output_type": "stream",
          "name": "stdout",
          "text": [
            "Requirement already satisfied: rapidfuzz in /usr/local/lib/python3.7/dist-packages (1.8.2)\n"
          ]
        }
      ]
    },
    {
      "cell_type": "code",
      "metadata": {
        "id": "lb1J-DKOXDjd"
      },
      "source": [
        "import numpy as np\n",
        "import pandas as pd\n",
        "import glob\n",
        "from rapidfuzz import process, fuzz"
      ],
      "execution_count": 45,
      "outputs": []
    },
    {
      "cell_type": "code",
      "metadata": {
        "id": "he36fPK8XFTO"
      },
      "source": [
        "# chargement du fichier BFA dans python\n",
        "#bfa_metadata = pd.ExcelFile('/All files xls_update.xlsx')\n",
        "bfa_metadata = pd.ExcelFile('/BFA Register Metadata NS 13-10-2021.xlsx')"
      ],
      "execution_count": 5,
      "outputs": []
    },
    {
      "cell_type": "code",
      "metadata": {
        "colab": {
          "base_uri": "https://localhost:8080/"
        },
        "id": "oE5xUykLXSle",
        "outputId": "daf5a076-35b8-45e1-84e3-02f9142e2f8a"
      },
      "source": [
        "# charger le fichier obtenu dans un dictionnaire python\n",
        "dict_bfa_data = {}\n",
        "for sht in bfa_metadata.sheet_names:\n",
        "    dict_bfa_data[sht] = bfa_metadata.parse(sht)\n",
        "    dict_bfa_data[sht].drop(dict_bfa_data[sht].columns[1:], axis = 1, inplace = True)\n",
        "    dict_bfa_data[sht] = dict_bfa_data[sht].dropna(axis=0)"
      ],
      "execution_count": 6,
      "outputs": [
        {
          "output_type": "execute_result",
          "data": {
            "text/plain": [
              "71"
            ]
          },
          "metadata": {},
          "execution_count": 6
        }
      ]
    },
    {
      "cell_type": "code",
      "metadata": {
        "id": "D7l8EIEWXbf0"
      },
      "source": [
        "# chargement du fichier DHIS2 dans python\n",
        "dhis2_metadata = pd.ExcelFile('/Burkina_DHIS2_Metadata.xlsx')"
      ],
      "execution_count": 7,
      "outputs": []
    },
    {
      "cell_type": "code",
      "metadata": {
        "colab": {
          "base_uri": "https://localhost:8080/"
        },
        "id": "QA2KHKB4Xedd",
        "outputId": "2a50aae3-7052-490c-9c45-41be05b90f0f"
      },
      "source": [
        "# charger le fichier obtenu dans un dictionnaire python\n",
        "dict_DHIS2_data = {}\n",
        "for sht in dhis2_metadata.sheet_names:\n",
        "    dict_DHIS2_data[sht] = dhis2_metadata.parse(sht)\n",
        "    dict_DHIS2_data[sht].drop(dict_DHIS2_data[sht].columns[1:], axis = 1, inplace = True)"
      ],
      "execution_count": 8,
      "outputs": [
        {
          "output_type": "execute_result",
          "data": {
            "text/plain": [
              "3"
            ]
          },
          "metadata": {},
          "execution_count": 8
        }
      ]
    },
    {
      "cell_type": "code",
      "metadata": {
        "id": "xuenZIh3Xhe0"
      },
      "source": [
        "# Creation d'un hash table contenant toutes les metadonnees sur DHIS2\n",
        "hash_table_dhis2 = {}\n",
        "for key in dict_DHIS2_data.keys():\n",
        "    for i in range(len(dict_DHIS2_data[key])):\n",
        "        hash_table_dhis2[dict_DHIS2_data[key].loc[i][0].strip().lower()] = key"
      ],
      "execution_count": 28,
      "outputs": []
    },
    {
      "cell_type": "code",
      "metadata": {
        "id": "47Qok7VnXjg1"
      },
      "source": [
        "# Creation d'un hash table contenant toutes les metadonnees du ficher BFA\n",
        "hash_table_bfa = {}\n",
        "for key in dict_bfa_data.keys():\n",
        "    for i in range(len(dict_bfa_data[key])):\n",
        "        hash_table_bfa[str(dict_bfa_data[key].iloc[i][0]).strip().lower()] = key"
      ],
      "execution_count": 29,
      "outputs": []
    },
    {
      "cell_type": "code",
      "metadata": {
        "id": "2UdAMITY6aH4"
      },
      "source": [
        "# Utilisation d'un sorted array de python pour optimiser l'acces aux donnees\n",
        "bfa_array = hash_table_bfa.keys()\n",
        "bfa_ordered_array = sorted(arr)"
      ],
      "execution_count": 48,
      "outputs": []
    },
    {
      "cell_type": "code",
      "metadata": {
        "id": "umEI6ekP7BMJ"
      },
      "source": [
        "# Utilisation d'un sorted array de python pour optimiser l'acces aux donnees\n",
        "dhis2_array = hash_table_dhis2.keys()\n",
        "dhis2_ordered_array = sorted(dhis2_array)"
      ],
      "execution_count": 47,
      "outputs": []
    },
    {
      "cell_type": "code",
      "metadata": {
        "id": "Un1ULgxTYWB-"
      },
      "source": [
        "dict_fuzzy_match = {'matching elements': {'BFA':{'BFA': [], 'BFA Source': []}, 'DHIS2': {'DHIS2': [], 'DHIS2 Source': []}}}\n",
        "for elm_bfa in bfa_ordered_array:\n",
        "    for elm_dhis2 in dhis2_ordered_array:\n",
        "        if fuzz.ratio(elm_bfa, elm_dhis2) > 80: # methode ratio(str, str) du module Fuzzy permet de faire \n",
        "                                                # un matching approximatif entre 2 string en utlisant \n",
        "                                                # l'algorithm de Levenshtein\n",
        "            dict_fuzzy_match['matching elements']['BFA']['BFA'].append(elm_bfa)\n",
        "            dict_fuzzy_match['matching elements']['BFA']['BFA Source'].append(hash_table_bfa[elm_bfa])\n",
        "            dict_fuzzy_match['matching elements']['DHIS2']['DHIS2'].append(elm_dhis2)\n",
        "            dict_fuzzy_match['matching elements']['DHIS2']['DHIS2 Source'].append(hash_table_dhis2[elm_dhis2])"
      ],
      "execution_count": 49,
      "outputs": []
    },
    {
      "cell_type": "code",
      "metadata": {
        "id": "R57bk4GWcEtp"
      },
      "source": [
        "# Ecrire les resultats dans un fichier excel metadata_found.xlsx\n",
        "with pd.ExcelWriter('/metadata_fuzzy_match.xlsx') as writer:\n",
        "    dict_fuzzy_bfa_match_df = pd.DataFrame.from_dict(dict_fuzzy_match['matching elements']['BFA'])\n",
        "    dict_fuzzy_dhis2_match_df = pd.DataFrame.from_dict(dict_fuzzy_match['matching elements']['DHIS2'])\n",
        "    dict_fuzzy_match_df = pd.concat([dict_fuzzy_bfa_match_df, dict_fuzzy_dhis2_match_df], axis=1)\n",
        "    dict_fuzzy_match_df.to_excel(writer, sheet_name='matching elements')"
      ],
      "execution_count": 43,
      "outputs": []
    }
  ]
}